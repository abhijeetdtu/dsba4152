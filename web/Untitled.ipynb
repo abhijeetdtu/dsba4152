{
 "cells": [
  {
   "cell_type": "code",
   "execution_count": 1,
   "metadata": {},
   "outputs": [],
   "source": [
    "import ipywidgets as widgets\n",
    "from traitlets import Unicode, Int, validate"
   ]
  },
  {
   "cell_type": "code",
   "execution_count": 7,
   "metadata": {},
   "outputs": [],
   "source": [
    "class CropperWidget(widgets.DOMWidget):\n",
    "    _view_name = Unicode('CropperView').tag(sync=True)\n",
    "    _view_module = Unicode('cropper').tag(sync=True)\n",
    "    value = Int(0).tag(sync=True)"
   ]
  },
  {
   "cell_type": "code",
   "execution_count": 20,
   "metadata": {},
   "outputs": [
    {
     "data": {
      "text/html": [
       "<script src=\"https://cdnjs.cloudflare.com/ajax/libs/cropperjs/1.5.9/cropper.min.js\"></script>\n"
      ],
      "text/plain": [
       "<IPython.core.display.HTML object>"
      ]
     },
     "metadata": {},
     "output_type": "display_data"
    }
   ],
   "source": [
    "%%HTML\n",
    "<script src=\"https://cdnjs.cloudflare.com/ajax/libs/cropperjs/1.5.9/cropper.min.js\"></script>"
   ]
  },
  {
   "cell_type": "code",
   "execution_count": 30,
   "metadata": {},
   "outputs": [
    {
     "data": {
      "application/javascript": [
       "// We make sure the `counter` module is defined\n",
       "// only once.\n",
       "require.undef('cropper');\n",
       "\n",
       "require.config({\n",
       "  //Define 3rd party plugins dependencies\n",
       "  paths: {\n",
       "    cropperjs: \"//cdnjs.cloudflare.com/ajax/libs/cropperjs/1.5.9/cropper.min\"\n",
       "  }\n",
       "});\n",
       "// We define the `counter` module depending on the\n",
       "// Jupyter widgets framework.\n",
       "define('cropper', [\"@jupyter-widgets/base\"  , \"cropperjs\"],\n",
       "       function(widgets) {\n",
       "\n",
       "    // We create the CounterView frontend class,\n",
       "    // deriving from DOMWidgetView.\n",
       "    var CropperView = widgets.DOMWidgetView.extend({\n",
       "\n",
       "        // This method creates the HTML widget.\n",
       "        render: function() {\n",
       "            // The value_changed() method should be\n",
       "            // called when the model's value changes\n",
       "            // on the kernel side.\n",
       "            this.value_changed();\n",
       "            this.model.on('change:value',\n",
       "                          this.value_changed, this);\n",
       "\n",
       "            var model = this.model;\n",
       "            var that = this;\n",
       "\n",
       "            // We create the plus and minus buttons.\n",
       "            this.bm = $('<img />')\n",
       "            this.bm.src = \"USA_1992.png\"\n",
       "\n",
       "            var image = this.bm.get();\n",
       "            var cropper = new Cropper(image, {\n",
       "              aspectRatio: 16 / 9,\n",
       "              crop(event) {\n",
       "                console.log(event.detail.x);\n",
       "                console.log(event.detail.y);\n",
       "                console.log(event.detail.width);\n",
       "                console.log(event.detail.height);\n",
       "                console.log(event.detail.rotate);\n",
       "                console.log(event.detail.scaleX);\n",
       "                console.log(event.detail.scaleY);\n",
       "              },\n",
       "            });\n",
       "\n",
       "            $(this.el)\n",
       "            .append(this.bm)\n",
       "        },\n",
       "\n",
       "        value_changed: function() {\n",
       "            // Update the displayed number when the\n",
       "            // counter's value changes.\n",
       "            var x = this.model.get('value');\n",
       "            $($(this.el).children()[1]).text(x);\n",
       "        },\n",
       "    });\n",
       "\n",
       "    return {\n",
       "        CropperView : CropperView\n",
       "    };\n",
       "});\n"
      ],
      "text/plain": [
       "<IPython.core.display.Javascript object>"
      ]
     },
     "metadata": {},
     "output_type": "display_data"
    }
   ],
   "source": [
    "%%javascript\n",
    "// We make sure the `counter` module is defined\n",
    "// only once.\n",
    "require.undef('cropper');\n",
    "\n",
    "require.config({\n",
    "  //Define 3rd party plugins dependencies\n",
    "  paths: {\n",
    "    cropperjs: \"//cdnjs.cloudflare.com/ajax/libs/cropperjs/1.5.9/cropper.min\"\n",
    "  }\n",
    "});\n",
    "// We define the `counter` module depending on the\n",
    "// Jupyter widgets framework.\n",
    "define('cropper', [\"@jupyter-widgets/base\"  , \"cropperjs\"],\n",
    "       function(widgets) {\n",
    "\n",
    "    // We create the CounterView frontend class,\n",
    "    // deriving from DOMWidgetView.\n",
    "    var CropperView = widgets.DOMWidgetView.extend({\n",
    "\n",
    "        // This method creates the HTML widget.\n",
    "        render: function() {\n",
    "            // The value_changed() method should be\n",
    "            // called when the model's value changes\n",
    "            // on the kernel side.\n",
    "            this.value_changed();\n",
    "            this.model.on('change:value',\n",
    "                          this.value_changed, this);\n",
    "\n",
    "            var model = this.model;\n",
    "            var that = this;\n",
    "\n",
    "            // We create the plus and minus buttons.\n",
    "            this.bm = $('<img />')\n",
    "            this.bm.src = \"USA_1992.png\"\n",
    "\n",
    "            var image = this.bm.get();\n",
    "            var cropper = new Cropper(image, {\n",
    "              aspectRatio: 16 / 9,\n",
    "              crop(event) {\n",
    "                console.log(event.detail.x);\n",
    "                console.log(event.detail.y);\n",
    "                console.log(event.detail.width);\n",
    "                console.log(event.detail.height);\n",
    "                console.log(event.detail.rotate);\n",
    "                console.log(event.detail.scaleX);\n",
    "                console.log(event.detail.scaleY);\n",
    "              },\n",
    "            });\n",
    "\n",
    "            $(this.el)\n",
    "            .append(this.bm)\n",
    "        },\n",
    "\n",
    "        value_changed: function() {\n",
    "            // Update the displayed number when the\n",
    "            // counter's value changes.\n",
    "            var x = this.model.get('value');\n",
    "            $($(this.el).children()[1]).text(x);\n",
    "        },\n",
    "    });\n",
    "\n",
    "    return {\n",
    "        CropperView : CropperView\n",
    "    };\n",
    "});"
   ]
  },
  {
   "cell_type": "code",
   "execution_count": 31,
   "metadata": {},
   "outputs": [
    {
     "data": {
      "application/vnd.jupyter.widget-view+json": {
       "model_id": "d46722ab4b6647a496b3313f2476be63",
       "version_major": 2,
       "version_minor": 0
      },
      "text/plain": [
       "CropperWidget()"
      ]
     },
     "metadata": {},
     "output_type": "display_data"
    }
   ],
   "source": [
    "w = CropperWidget()\n",
    "w"
   ]
  },
  {
   "cell_type": "code",
   "execution_count": null,
   "metadata": {},
   "outputs": [],
   "source": []
  }
 ],
 "metadata": {
  "kernelspec": {
   "display_name": "dt",
   "language": "python",
   "name": "dt"
  },
  "language_info": {
   "codemirror_mode": {
    "name": "ipython",
    "version": 3
   },
   "file_extension": ".py",
   "mimetype": "text/x-python",
   "name": "python",
   "nbconvert_exporter": "python",
   "pygments_lexer": "ipython3",
   "version": "3.7.3"
  }
 },
 "nbformat": 4,
 "nbformat_minor": 2
}
