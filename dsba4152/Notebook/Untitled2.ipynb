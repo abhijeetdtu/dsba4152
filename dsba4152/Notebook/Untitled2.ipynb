{
 "cells": [
  {
   "cell_type": "code",
   "execution_count": 1,
   "metadata": {},
   "outputs": [],
   "source": [
    "import numpy as np"
   ]
  },
  {
   "cell_type": "code",
   "execution_count": 67,
   "metadata": {},
   "outputs": [],
   "source": [
    "import pandas as pd\n",
    "steering = pd.read_csv(\"C://Users//Abhijeet//Documents//GitHub//computervision//autodrive//autonomous_driving//challenge//data//training//training//steering_angles.csv\",header=None)"
   ]
  },
  {
   "cell_type": "code",
   "execution_count": 73,
   "metadata": {},
   "outputs": [],
   "source": [
    "angles = steering.iloc[: , 1].values"
   ]
  },
  {
   "cell_type": "code",
   "execution_count": 168,
   "metadata": {},
   "outputs": [],
   "source": [
    "nbins = 100\n",
    "#bins = np.linspace(-170 , 30 , nbins+1)\n",
    "bins = np.quantile(angles, np.linspace(0 , 1 , nbins))"
   ]
  },
  {
   "cell_type": "code",
   "execution_count": 169,
   "metadata": {},
   "outputs": [],
   "source": [
    "y = angles\n",
    "yhat = np.random.normal(0,20 , 100)\n",
    "\n",
    "def one_hot_bin(vals):\n",
    "    a = np.digitize(vals , bins)\n",
    "    a = np.array([np.arange(i-4 , i+5) for i in a])\n",
    "    #print(a.shape)\n",
    "    b = np.zeros((a.shape[0], nbins))\n",
    "    \n",
    "    for i,_ in enumerate(b):\n",
    "        maskeda = np.ma.masked_where(np.logical_or(a[i] < 0 , a[i] > nbins-1),a[i]).filled(0)\n",
    "        val = np.ma.masked_where(np.logical_or(a[i] < 0 , a[i] > nbins-1),hill).filled(0)\n",
    "        #print(maskeda  ,nbins , val)\n",
    "        #val = np.dot(val ,hill)\n",
    "        #print(val)\n",
    "        b[i , maskeda] = val\n",
    "    \n",
    "    return b"
   ]
  },
  {
   "cell_type": "code",
   "execution_count": 170,
   "metadata": {},
   "outputs": [],
   "source": [
    "from plotnine import *"
   ]
  },
  {
   "cell_type": "code",
   "execution_count": 171,
   "metadata": {},
   "outputs": [
    {
     "data": {
      "text/plain": [
       "array([-165.42462913, -150.88538586, -148.1942    , -145.86310044,\n",
       "       -143.64767381, -141.00885442, -137.14577487, -125.09405084,\n",
       "       -116.31497025, -111.29884836, -109.15342886, -108.22708727,\n",
       "       -107.78615329, -106.9691956 , -105.03482296, -103.51007813,\n",
       "       -101.57004533, -100.62623516,  -99.43388253,  -97.43585274,\n",
       "        -94.7868212 ,  -92.18808135,  -90.50659417,  -88.21478712,\n",
       "        -84.15747418,  -82.0860291 ,  -77.7580707 ,  -74.92809547,\n",
       "        -70.70698705,  -66.16113032,  -61.80475723,  -57.88689929,\n",
       "        -51.20515717,  -43.26316219,  -36.26888178,  -29.92931414,\n",
       "        -24.12491628,  -18.36614063,  -13.82840748,  -10.90400185,\n",
       "         -8.92023966,   -6.73058471,   -5.27379763,   -3.49203446,\n",
       "         -2.10695637,   -0.58871261,    0.20127974,    0.91574473,\n",
       "          2.17376261,    2.77782323,    2.95098204,    3.18427639,\n",
       "          3.67829673,    4.47583382,    5.4832162 ,    6.94695917,\n",
       "          7.64734113,    9.24882546,   12.51650472,   23.00321277])"
      ]
     },
     "execution_count": 171,
     "metadata": {},
     "output_type": "execute_result"
    }
   ],
   "source": [
    "pd.DataFrame({\"angles\" : angles})[\"angles\"].quantile(np.linspace(0 , 1 , 60)).values"
   ]
  },
  {
   "cell_type": "code",
   "execution_count": 172,
   "metadata": {},
   "outputs": [
    {
     "name": "stderr",
     "output_type": "stream",
     "text": [
      "C:\\Users\\Abhijeet\\Documents\\GitHub\\Datathon\\dt\\lib\\site-packages\\plotnine\\stats\\stat_bin.py:93: PlotnineWarning: 'stat_bin()' using 'bins = 11'. Pick better value with 'binwidth'.\n"
     ]
    },
    {
     "data": {
      "image/png": "[encoded data removed]",
      "text/plain": [
       "<Figure size 640x480 with 1 Axes>"
      ]
     },
     "metadata": {},
     "output_type": "display_data"
    },
    {
     "data": {
      "text/plain": [
       "<ggplot: (-9223371859696829461)>"
      ]
     },
     "execution_count": 172,
     "metadata": {},
     "output_type": "execute_result"
    }
   ],
   "source": [
    "ggplot(pd.DataFrame({\"angles\" : angles}) , aes(x=\"angles\")) + geom_histogram()"
   ]
  },
  {
   "cell_type": "code",
   "execution_count": 173,
   "metadata": {},
   "outputs": [
    {
     "data": {
      "text/plain": [
       "array([   2.81514843,    2.81514843,    2.81514843, ..., -105.82207699,\n",
       "       -109.46695479, -113.51461557])"
      ]
     },
     "execution_count": 173,
     "metadata": {},
     "output_type": "execute_result"
    }
   ],
   "source": [
    "y"
   ]
  },
  {
   "cell_type": "code",
   "execution_count": 174,
   "metadata": {},
   "outputs": [],
   "source": [
    "hill = np.array([ 0.10, 0.32, 0.61, 0.89,1.00,0.89,0.61,0.32, 0.10])"
   ]
  },
  {
   "cell_type": "code",
   "execution_count": 175,
   "metadata": {},
   "outputs": [],
   "source": [
    "y_bin = one_hot_bin(y)"
   ]
  },
  {
   "cell_type": "code",
   "execution_count": 176,
   "metadata": {},
   "outputs": [
    {
     "data": {
      "text/plain": [
       "array([[0., 0., 0., ..., 0., 0., 0.],\n",
       "       [0., 0., 0., ..., 0., 0., 0.],\n",
       "       [0., 0., 0., ..., 0., 0., 0.],\n",
       "       ...,\n",
       "       [0., 0., 0., ..., 0., 0., 0.],\n",
       "       [0., 0., 0., ..., 0., 0., 0.],\n",
       "       [0., 0., 0., ..., 0., 0., 0.]])"
      ]
     },
     "execution_count": 176,
     "metadata": {},
     "output_type": "execute_result"
    }
   ],
   "source": [
    "y_bin"
   ]
  },
  {
   "cell_type": "code",
   "execution_count": 192,
   "metadata": {},
   "outputs": [],
   "source": [
    "y_hat_bin = one_hot_bin(yhat)"
   ]
  },
  {
   "cell_type": "code",
   "execution_count": 177,
   "metadata": {},
   "outputs": [
    {
     "data": {
      "text/plain": [
       "array([-1.65424629e+02, -1.51722083e+02, -1.50131244e+02, -1.48550181e+02,\n",
       "       -1.47374159e+02, -1.45934663e+02, -1.44563751e+02, -1.43257956e+02,\n",
       "       -1.41722988e+02, -1.40588102e+02, -1.37403811e+02, -1.32027704e+02,\n",
       "       -1.23713010e+02, -1.18140847e+02, -1.13927149e+02, -1.11635245e+02,\n",
       "       -1.09760109e+02, -1.08905308e+02, -1.08311537e+02, -1.08074905e+02,\n",
       "       -1.07819689e+02, -1.07531426e+02, -1.06933291e+02, -1.05696709e+02,\n",
       "       -1.04657627e+02, -1.03757305e+02, -1.02162097e+02, -1.01385706e+02,\n",
       "       -1.00835970e+02, -1.00013259e+02, -9.96290201e+01, -9.85955907e+01,\n",
       "       -9.74187967e+01, -9.54638069e+01, -9.44244519e+01, -9.24344557e+01,\n",
       "       -9.13803499e+01, -9.04542430e+01, -8.91740813e+01, -8.69152439e+01,\n",
       "       -8.48270265e+01, -8.32916972e+01, -8.20154590e+01, -7.96998779e+01,\n",
       "       -7.67129445e+01, -7.53706812e+01, -7.27678184e+01, -7.07063640e+01,\n",
       "       -6.79771348e+01, -6.52282750e+01, -6.27020981e+01, -5.96584302e+01,\n",
       "       -5.79623798e+01, -5.50978076e+01, -4.98711434e+01, -4.48339866e+01,\n",
       "       -4.14298366e+01, -3.71189988e+01, -3.29104051e+01, -2.92139584e+01,\n",
       "       -2.63254393e+01, -2.24962820e+01, -1.89131507e+01, -1.62917540e+01,\n",
       "       -1.31262719e+01, -1.16627173e+01, -9.85601145e+00, -9.09348358e+00,\n",
       "       -7.49520309e+00, -6.57027831e+00, -5.47797949e+00, -4.95088972e+00,\n",
       "       -3.72013190e+00, -2.84584447e+00, -1.74598577e+00, -1.09872572e+00,\n",
       "       -1.46207963e-01,  1.78650111e-01,  4.78382817e-01,  1.10414018e+00,\n",
       "        2.01496501e+00,  2.28798861e+00,  2.61892257e+00,  2.81514843e+00,\n",
       "        2.99385182e+00,  3.10285289e+00,  3.33043816e+00,  3.62032871e+00,\n",
       "        4.07935748e+00,  4.48613570e+00,  5.07591703e+00,  5.73941859e+00,\n",
       "        6.75599740e+00,  7.37637612e+00,  7.67447929e+00,  8.97117416e+00,\n",
       "        9.75296297e+00,  1.16227680e+01,  1.89785351e+01,  2.30032128e+01])"
      ]
     },
     "execution_count": 177,
     "metadata": {},
     "output_type": "execute_result"
    }
   ],
   "source": [
    "bins"
   ]
  },
  {
   "cell_type": "code",
   "execution_count": 178,
   "metadata": {},
   "outputs": [
    {
     "data": {
      "text/plain": [
       "2.9045001228849863"
      ]
     },
     "execution_count": 178,
     "metadata": {},
     "output_type": "execute_result"
    }
   ],
   "source": [
    "(bins[np.argmax(y_bin[0])-1] + bins[np.argmax(y_bin[0])])/2"
   ]
  },
  {
   "cell_type": "code",
   "execution_count": 179,
   "metadata": {},
   "outputs": [
    {
     "data": {
      "text/plain": [
       "2.8151484265000586"
      ]
     },
     "execution_count": 179,
     "metadata": {},
     "output_type": "execute_result"
    }
   ],
   "source": [
    "y[0]"
   ]
  },
  {
   "cell_type": "code",
   "execution_count": 180,
   "metadata": {},
   "outputs": [
    {
     "data": {
      "text/plain": [
       "array([   2.90450012,    2.90450012,    2.90450012, ..., -106.31500009,\n",
       "       -109.33270856, -112.78119675])"
      ]
     },
     "execution_count": 180,
     "metadata": {},
     "output_type": "execute_result"
    }
   ],
   "source": [
    "(bins[i-1] + bins[i])/2"
   ]
  },
  {
   "cell_type": "code",
   "execution_count": 188,
   "metadata": {},
   "outputs": [],
   "source": [
    "i = np.argmax(y_bin , axis=1)\n",
    "preds = (bins[i-1] + bins[i])/2"
   ]
  },
  {
   "cell_type": "code",
   "execution_count": 191,
   "metadata": {},
   "outputs": [
    {
     "data": {
      "text/plain": [
       "array([[0., 0., 0., ..., 0., 0., 0.],\n",
       "       [0., 0., 0., ..., 0., 0., 0.],\n",
       "       [0., 0., 0., ..., 0., 0., 0.],\n",
       "       ...,\n",
       "       [0., 0., 0., ..., 0., 0., 0.],\n",
       "       [0., 0., 0., ..., 0., 0., 0.],\n",
       "       [0., 0., 0., ..., 0., 0., 0.]])"
      ]
     },
     "execution_count": 191,
     "metadata": {},
     "output_type": "execute_result"
    }
   ],
   "source": [
    "y_bin"
   ]
  },
  {
   "cell_type": "code",
   "execution_count": 182,
   "metadata": {},
   "outputs": [
    {
     "data": {
      "text/plain": [
       "0.8623456099219604"
      ]
     },
     "execution_count": 182,
     "metadata": {},
     "output_type": "execute_result"
    }
   ],
   "source": [
    "np.sqrt(np.mean((y-preds)**2))"
   ]
  },
  {
   "cell_type": "code",
   "execution_count": 183,
   "metadata": {},
   "outputs": [
    {
     "data": {
      "text/plain": [
       "0.7436399509516779"
      ]
     },
     "execution_count": 183,
     "metadata": {},
     "output_type": "execute_result"
    }
   ],
   "source": [
    "np.sum((y-preds)**2) / y.shape[0]"
   ]
  },
  {
   "cell_type": "code",
   "execution_count": 184,
   "metadata": {},
   "outputs": [],
   "source": []
  },
  {
   "cell_type": "code",
   "execution_count": 185,
   "metadata": {},
   "outputs": [
    {
     "data": {
      "text/plain": [
       "array([[0., 0., 0., ..., 0., 0., 0.],\n",
       "       [0., 0., 0., ..., 0., 0., 0.],\n",
       "       [0., 0., 0., ..., 0., 0., 0.],\n",
       "       ...,\n",
       "       [0., 0., 0., ..., 0., 0., 0.],\n",
       "       [0., 0., 0., ..., 0., 0., 0.],\n",
       "       [0., 0., 0., ..., 0., 0., 0.]])"
      ]
     },
     "execution_count": 185,
     "metadata": {},
     "output_type": "execute_result"
    }
   ],
   "source": [
    "y_hat_bin"
   ]
  },
  {
   "cell_type": "code",
   "execution_count": 186,
   "metadata": {},
   "outputs": [
    {
     "ename": "ValueError",
     "evalue": "operands could not be broadcast together with shapes (1500,100) (100,100) ",
     "output_type": "error",
     "traceback": [
      "\u001b[1;31m---------------------------------------------------------------------------\u001b[0m",
      "\u001b[1;31mValueError\u001b[0m                                Traceback (most recent call last)",
      "\u001b[1;32m<ipython-input-186-566574e4e0b9>\u001b[0m in \u001b[0;36m<module>\u001b[1;34m\u001b[0m\n\u001b[1;32m----> 1\u001b[1;33m \u001b[0mnp\u001b[0m\u001b[1;33m.\u001b[0m\u001b[0msum\u001b[0m\u001b[1;33m(\u001b[0m\u001b[1;33m(\u001b[0m\u001b[0my_bin\u001b[0m \u001b[1;33m-\u001b[0m \u001b[0my_hat_bin\u001b[0m\u001b[1;33m)\u001b[0m\u001b[1;33m**\u001b[0m\u001b[1;36m2\u001b[0m\u001b[1;33m)\u001b[0m \u001b[1;33m/\u001b[0m \u001b[0my\u001b[0m\u001b[1;33m.\u001b[0m\u001b[0mshape\u001b[0m\u001b[1;33m[\u001b[0m\u001b[1;36m0\u001b[0m\u001b[1;33m]\u001b[0m\u001b[1;33m\u001b[0m\u001b[1;33m\u001b[0m\u001b[0m\n\u001b[0m",
      "\u001b[1;31mValueError\u001b[0m: operands could not be broadcast together with shapes (1500,100) (100,100) "
     ]
    }
   ],
   "source": [
    "np.sum((y_bin - y_hat_bin)**2) / y.shape[0]"
   ]
  },
  {
   "cell_type": "code",
   "execution_count": 187,
   "metadata": {},
   "outputs": [
    {
     "data": {
      "text/plain": [
       "array([-62.70209811, -59.65843018, -57.96237982, -55.09780764,\n",
       "       -49.87114345, -44.83398662, -41.42983655, -37.11899875,\n",
       "       -32.9104051 , -29.21395843])"
      ]
     },
     "execution_count": 187,
     "metadata": {},
     "output_type": "execute_result"
    }
   ],
   "source": [
    "bins[50 : 60]"
   ]
  },
  {
   "cell_type": "code",
   "execution_count": 45,
   "metadata": {},
   "outputs": [
    {
     "name": "stdout",
     "output_type": "stream",
     "text": [
      "13.286126220383771 [52 53 54 55 56 57 58 59 60] 11.874999999999986\n",
      "-15.684806683754397 [43 44 45 46 47 48 49 50 51] -14.375000000000014\n",
      "14.596142200687165 [53 54 55 56 57 58 59 60 61] 14.791666666666657\n",
      "1.850672961658063 [49 50 51 52 53 54 55 56 57] 3.124999999999986\n",
      "20.823880602261475 [55 56 57 58 59 60 61 62 63] 20.624999999999986\n",
      "-21.171910590447098 [41 42 43 44 45 46 47 48 49] -20.208333333333343\n"
     ]
    },
    {
     "ename": "IndexError",
     "evalue": "index 61 is out of bounds for axis 0 with size 61",
     "output_type": "error",
     "traceback": [
      "\u001b[1;31m---------------------------------------------------------------------------\u001b[0m",
      "\u001b[1;31mIndexError\u001b[0m                                Traceback (most recent call last)",
      "\u001b[1;32m<ipython-input-45-e1917c81b119>\u001b[0m in \u001b[0;36m<module>\u001b[1;34m\u001b[0m\n\u001b[0;32m      1\u001b[0m \u001b[1;32mfor\u001b[0m \u001b[0mi\u001b[0m \u001b[1;32min\u001b[0m \u001b[0mrange\u001b[0m\u001b[1;33m(\u001b[0m\u001b[1;36m0\u001b[0m\u001b[1;33m,\u001b[0m\u001b[1;36m10\u001b[0m\u001b[1;33m)\u001b[0m\u001b[1;33m:\u001b[0m\u001b[1;33m\u001b[0m\u001b[1;33m\u001b[0m\u001b[0m\n\u001b[1;32m----> 2\u001b[1;33m     \u001b[0mprint\u001b[0m\u001b[1;33m(\u001b[0m\u001b[0mvals\u001b[0m\u001b[1;33m[\u001b[0m\u001b[0mi\u001b[0m\u001b[1;33m]\u001b[0m \u001b[1;33m,\u001b[0m \u001b[0ma\u001b[0m\u001b[1;33m[\u001b[0m\u001b[0mi\u001b[0m\u001b[1;33m]\u001b[0m \u001b[1;33m,\u001b[0m \u001b[1;33m(\u001b[0m\u001b[0mbins\u001b[0m\u001b[1;33m[\u001b[0m\u001b[0ma\u001b[0m\u001b[1;33m[\u001b[0m\u001b[0mi\u001b[0m\u001b[1;33m]\u001b[0m\u001b[1;33m[\u001b[0m\u001b[1;36m4\u001b[0m\u001b[1;33m]\u001b[0m\u001b[1;33m-\u001b[0m\u001b[1;36m1\u001b[0m\u001b[1;33m]\u001b[0m \u001b[1;33m+\u001b[0m \u001b[0mbins\u001b[0m\u001b[1;33m[\u001b[0m\u001b[0ma\u001b[0m\u001b[1;33m[\u001b[0m\u001b[0mi\u001b[0m\u001b[1;33m]\u001b[0m\u001b[1;33m[\u001b[0m\u001b[1;36m4\u001b[0m\u001b[1;33m]\u001b[0m\u001b[1;33m]\u001b[0m\u001b[1;33m)\u001b[0m\u001b[1;33m/\u001b[0m\u001b[1;36m2\u001b[0m \u001b[1;33m)\u001b[0m\u001b[1;33m\u001b[0m\u001b[1;33m\u001b[0m\u001b[0m\n\u001b[0m",
      "\u001b[1;31mIndexError\u001b[0m: index 61 is out of bounds for axis 0 with size 61"
     ]
    }
   ],
   "source": [
    "for i in range(0,10):\n",
    "    print(vals[i] , a[i] , (bins[a[i][4]-1] + bins[a[i][4]])/2 )"
   ]
  },
  {
   "cell_type": "code",
   "execution_count": 36,
   "metadata": {},
   "outputs": [
    {
     "data": {
      "text/plain": [
       "13.286126220383771"
      ]
     },
     "execution_count": 36,
     "metadata": {},
     "output_type": "execute_result"
    }
   ],
   "source": [
    "vals[0]"
   ]
  },
  {
   "cell_type": "code",
   "execution_count": 37,
   "metadata": {},
   "outputs": [
    {
     "data": {
      "text/plain": [
       "array([52, 53, 54, 55, 56, 57, 58, 59, 60], dtype=int64)"
      ]
     },
     "execution_count": 37,
     "metadata": {},
     "output_type": "execute_result"
    }
   ],
   "source": [
    "a[0]"
   ]
  },
  {
   "cell_type": "code",
   "execution_count": 38,
   "metadata": {},
   "outputs": [
    {
     "data": {
      "text/plain": [
       "13.333333333333314"
      ]
     },
     "execution_count": 38,
     "metadata": {},
     "output_type": "execute_result"
    }
   ],
   "source": [
    "bins[a[0][4]]"
   ]
  },
  {
   "cell_type": "code",
   "execution_count": 33,
   "metadata": {},
   "outputs": [
    {
     "data": {
      "text/plain": [
       "array([ 1.66666667,  4.58333333,  7.5       , 10.41666667, 13.33333333,\n",
       "       16.25      , 19.16666667, 22.08333333, 25.        ])"
      ]
     },
     "execution_count": 33,
     "metadata": {},
     "output_type": "execute_result"
    }
   ],
   "source": [
    "bins[a[0]]"
   ]
  },
  {
   "cell_type": "code",
   "execution_count": 34,
   "metadata": {},
   "outputs": [
    {
     "data": {
      "text/plain": [
       "array([0.  , 0.  , 0.  , 0.  , 0.  , 0.  , 0.  , 0.  , 0.  , 0.  , 0.  ,\n",
       "       0.  , 0.  , 0.  , 0.  , 0.  , 0.  , 0.  , 0.  , 0.  , 0.  , 0.  ,\n",
       "       0.  , 0.  , 0.  , 0.  , 0.  , 0.  , 0.  , 0.  , 0.  , 0.  , 0.  ,\n",
       "       0.  , 0.  , 0.  , 0.  , 0.  , 0.  , 0.  , 0.  , 0.  , 0.  , 0.  ,\n",
       "       0.  , 0.  , 0.  , 0.  , 0.  , 0.  , 0.  , 0.  , 0.1 , 0.32, 0.61,\n",
       "       0.89, 1.  , 0.89, 0.61, 0.32])"
      ]
     },
     "execution_count": 34,
     "metadata": {},
     "output_type": "execute_result"
    }
   ],
   "source": [
    "b[0]"
   ]
  },
  {
   "cell_type": "markdown",
   "metadata": {},
   "source": [
    "### Cross Entropy"
   ]
  },
  {
   "cell_type": "code",
   "execution_count": 200,
   "metadata": {},
   "outputs": [
    {
     "data": {
      "text/plain": [
       "array([4.84, 4.84, 4.84, ..., 4.84, 4.84, 4.84])"
      ]
     },
     "execution_count": 200,
     "metadata": {},
     "output_type": "execute_result"
    }
   ],
   "source": [
    "np.sum(y_bin , axis=1)"
   ]
  },
  {
   "cell_type": "code",
   "execution_count": 204,
   "metadata": {},
   "outputs": [],
   "source": [
    "from scipy.special import softmax"
   ]
  },
  {
   "cell_type": "code",
   "execution_count": 205,
   "metadata": {},
   "outputs": [
    {
     "data": {
      "text/plain": [
       "array([0.0093254 , 0.0093254 , 0.0093254 , 0.0093254 , 0.0093254 ,\n",
       "       0.0093254 , 0.0093254 , 0.0093254 , 0.0093254 , 0.0093254 ,\n",
       "       0.0093254 , 0.0093254 , 0.0093254 , 0.0093254 , 0.0093254 ,\n",
       "       0.0093254 , 0.0093254 , 0.0093254 , 0.0093254 , 0.0093254 ,\n",
       "       0.0093254 , 0.0093254 , 0.0093254 , 0.0093254 , 0.0093254 ,\n",
       "       0.0093254 , 0.0093254 , 0.0093254 , 0.0093254 , 0.0093254 ,\n",
       "       0.0093254 , 0.0093254 , 0.0093254 , 0.0093254 , 0.0093254 ,\n",
       "       0.0093254 , 0.0093254 , 0.0093254 , 0.0093254 , 0.0093254 ,\n",
       "       0.0093254 , 0.0093254 , 0.0093254 , 0.0093254 , 0.0093254 ,\n",
       "       0.0093254 , 0.0093254 , 0.0093254 , 0.0093254 , 0.0093254 ,\n",
       "       0.0093254 , 0.0093254 , 0.0093254 , 0.0093254 , 0.0093254 ,\n",
       "       0.0093254 , 0.0093254 , 0.0093254 , 0.0093254 , 0.0093254 ,\n",
       "       0.0093254 , 0.0093254 , 0.0093254 , 0.0093254 , 0.0093254 ,\n",
       "       0.0093254 , 0.0093254 , 0.0093254 , 0.0093254 , 0.0093254 ,\n",
       "       0.0093254 , 0.0093254 , 0.0093254 , 0.0093254 , 0.0093254 ,\n",
       "       0.0093254 , 0.0093254 , 0.0093254 , 0.0093254 , 0.0093254 ,\n",
       "       0.01030616, 0.01284227, 0.01716276, 0.02270856, 0.02534907,\n",
       "       0.02270856, 0.01716276, 0.01284227, 0.01030616, 0.0093254 ,\n",
       "       0.0093254 , 0.0093254 , 0.0093254 , 0.0093254 , 0.0093254 ,\n",
       "       0.0093254 , 0.0093254 , 0.0093254 , 0.0093254 , 0.0093254 ])"
      ]
     },
     "execution_count": 205,
     "metadata": {},
     "output_type": "execute_result"
    }
   ],
   "source": [
    "y_bin_prob = np.apply_along_axis(lambda v : softmax(v) , 1 , y_bin)\n",
    "y_bin_prob[0]"
   ]
  },
  {
   "cell_type": "code",
   "execution_count": 210,
   "metadata": {},
   "outputs": [
    {
     "data": {
      "text/plain": [
       "array([[0.91324315, 0.61348635, 0.56609383, ..., 0.57728288, 0.08175884,\n",
       "        0.0145548 ],\n",
       "       [0.56536505, 0.04017134, 0.02790181, ..., 0.03209136, 0.63744532,\n",
       "        0.32795143],\n",
       "       [0.30138278, 0.53353511, 0.67066733, ..., 0.44862408, 0.1260673 ,\n",
       "        0.390312  ],\n",
       "       ...,\n",
       "       [0.93762805, 0.14761012, 0.84770385, ..., 0.4305459 , 0.79131859,\n",
       "        0.17001811],\n",
       "       [0.10459165, 0.66697494, 0.52096174, ..., 0.29184242, 0.13525819,\n",
       "        0.8543414 ],\n",
       "       [0.51575633, 0.38990544, 0.96451454, ..., 0.14827123, 0.72378289,\n",
       "        0.43037805]])"
      ]
     },
     "execution_count": 210,
     "metadata": {},
     "output_type": "execute_result"
    }
   ],
   "source": [
    "y_pred_prob = np.random.random((y_bin_prob.shape[0],y_bin_prob.shape[1]))\n",
    "y_pred_prob"
   ]
  },
  {
   "cell_type": "code",
   "execution_count": 219,
   "metadata": {},
   "outputs": [],
   "source": [
    "def cross_entropy(a , b):\n",
    "    return np.sum(-np.multiply(a , np.log2(b)))"
   ]
  },
  {
   "cell_type": "code",
   "execution_count": 217,
   "metadata": {},
   "outputs": [
    {
     "data": {
      "text/plain": [
       "(1500, 100)"
      ]
     },
     "execution_count": 217,
     "metadata": {},
     "output_type": "execute_result"
    }
   ],
   "source": [
    "(-np.multiply(y_bin_prob , np.log2(y_pred_prob))).shape"
   ]
  },
  {
   "cell_type": "code",
   "execution_count": 220,
   "metadata": {},
   "outputs": [
    {
     "data": {
      "text/plain": [
       "3.2879430945989"
      ]
     },
     "execution_count": 220,
     "metadata": {},
     "output_type": "execute_result"
    }
   ],
   "source": [
    "p = [0.10, 0.40, 0.50]\n",
    "q = [0.80, 0.15, 0.05]\n",
    "\n",
    "cross_entropy(p,q)"
   ]
  },
  {
   "cell_type": "code",
   "execution_count": null,
   "metadata": {},
   "outputs": [],
   "source": []
  }
 ],
 "metadata": {
  "kernelspec": {
   "display_name": "dt",
   "language": "python",
   "name": "dt"
  },
  "language_info": {
   "codemirror_mode": {
    "name": "ipython",
    "version": 3
   },
   "file_extension": ".py",
   "mimetype": "text/x-python",
   "name": "python",
   "nbconvert_exporter": "python",
   "pygments_lexer": "ipython3",
   "version": "3.7.3"
  }
 },
 "nbformat": 4,
 "nbformat_minor": 2
}
